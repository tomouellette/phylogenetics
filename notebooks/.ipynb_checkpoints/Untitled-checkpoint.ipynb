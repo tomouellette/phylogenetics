{
 "cells": [
  {
   "cell_type": "code",
   "execution_count": 2,
   "id": "f3fdb9dc-4d67-41d9-9a16-aeded4f3c389",
   "metadata": {},
   "outputs": [],
   "source": [
    "x = {\"6\": [[\"c\"], [\"5\"]], \"1\": [[\"b\"]], \"2\": [[\"c\"]], \"0\": [[\"a\"]], \"4\": [[\"a\"], [\"d\"]], \"3\": [[\"d\"]], \"5\": [[\"b\"], [\"4\"]]}"
   ]
  },
  {
   "cell_type": "code",
   "execution_count": 3,
   "id": "d46047ad-ddf1-4ad1-ba78-3514f5a57684",
   "metadata": {},
   "outputs": [],
   "source": [
    "import numpy as np"
   ]
  },
  {
   "cell_type": "markdown",
   "id": "a5e926ae-fb99-4a5b-9719-443c54ac9847",
   "metadata": {},
   "source": [
    "(A,B,(C,D)E)F;                         all nodes are named"
   ]
  },
  {
   "cell_type": "code",
   "execution_count": 41,
   "id": "eb165d4f-d904-4b8f-8f29-aa9ebde2a25a",
   "metadata": {},
   "outputs": [
    {
     "name": "stdout",
     "output_type": "stream",
     "text": [
      "['a', 'd']\n"
     ]
    }
   ],
   "source": [
    "newick_list = []\n",
    "for i in range(4,7):\n",
    "    b = x[str(i)]\n",
    "    add = []\n",
    "    if (b[0][0].isnumeric() == False) & (b[1][0].isnumeric() == False):\n",
    "        add.append(b[0][0])\n",
    "        add.append(b[1][0])\n",
    "    else if (b[0][0].isnumeric() == False) & (b[1][0].isnumeric() == True)\n",
    "        "
   ]
  },
  {
   "cell_type": "code",
   "execution_count": null,
   "id": "5b10b378-3afb-44ea-9fb4-e6a8ba343e2c",
   "metadata": {},
   "outputs": [],
   "source": []
  }
 ],
 "metadata": {
  "kernelspec": {
   "display_name": "Python 3 (ipykernel)",
   "language": "python",
   "name": "python3"
  },
  "language_info": {
   "codemirror_mode": {
    "name": "ipython",
    "version": 3
   },
   "file_extension": ".py",
   "mimetype": "text/x-python",
   "name": "python",
   "nbconvert_exporter": "python",
   "pygments_lexer": "ipython3",
   "version": "3.8.12"
  }
 },
 "nbformat": 4,
 "nbformat_minor": 5
}
